{
 "cells": [
  {
   "cell_type": "code",
   "execution_count": null,
   "id": "51544c0b",
   "metadata": {},
   "outputs": [],
   "source": [
    "import pandas as pd\n",
    "import numpy as np\n",
    "import math\n",
    "from sklearn.covariance import graphical_lasso\n",
    "from statsmodels.tsa.stattools import coint\n",
    "from statsmodels.regression.rolling import RollingOLS"
   ]
  },
  {
   "cell_type": "code",
   "execution_count": null,
   "id": "e96b312f",
   "metadata": {},
   "outputs": [],
   "source": [
    "start_year = 2015\n",
    "end_year = 2021\n",
    "alpha_glasso = 0.8\n",
    "strategy_duration = 1\n",
    "glasso_duration = 2\n",
    "regr_window = 30\n",
    "norm_window = 60\n",
    "entry_level = 2\n",
    "stop_loss = 5\n",
    "take_profit = 0\n",
    "initial_margin = 0.5\n",
    "method = \"BL\""
   ]
  },
  {
   "cell_type": "code",
   "execution_count": null,
   "id": "2b8a3f1e",
   "metadata": {},
   "outputs": [],
   "source": [
    "df_constituents = pd.read_csv(\"https://raw.githubusercontent.com/datasets/s-and-p-500-companies/master/data/constituents.csv\")\n",
    "df_prices = pd.read_pickle(\"s&p500_final\")"
   ]
  },
  {
   "cell_type": "code",
   "execution_count": null,
   "id": "07ea2952",
   "metadata": {
    "scrolled": true
   },
   "outputs": [],
   "source": [
    "df_log_returns = np.log(df_prices).diff(1)"
   ]
  },
  {
   "cell_type": "code",
   "execution_count": null,
   "id": "3ca7aaa4",
   "metadata": {},
   "outputs": [],
   "source": [
    "df_partial_correlations_list = list()\n",
    "df_pairs_list = list()\n",
    "for i in range(start_year, end_year):\n",
    "    start_glasso_year = i\n",
    "    end_glasso_year = i + glasso_duration - 1\n",
    "    start_strategy_year = end_glasso_year + 1\n",
    "    end_strategy_year = start_strategy_year + strategy_duration - 1\n",
    "    df_log_returns_reduced = df_log_returns[df_log_returns.index.year >= start_glasso_year]\n",
    "    df_log_returns_reduced = df_log_returns_reduced[df_log_returns_reduced.index.year <= end_glasso_year]\n",
    "    df_log_returns_reduced = df_log_returns_reduced.dropna(axis = 1)\n",
    "    df_log_returns_reduced = (df_log_returns_reduced - df_log_returns_reduced.mean()) / df_log_returns_reduced.std()\n",
    "    cov_matrix = df_log_returns_reduced.cov()\n",
    "    precision_matrix = pd.DataFrame(graphical_lasso(cov_matrix.to_numpy(), max_iter = 100, alpha = alpha_glasso)[1], columns = df_log_returns_reduced.columns)\n",
    "    precision_matrix.index = df_log_returns_reduced.columns\n",
    "    partial_correlations_matrix = precision_matrix.copy()\n",
    "    pairs_list = list()\n",
    "    for i in range(0, partial_correlations_matrix.shape[0]):\n",
    "        for j in range(0, partial_correlations_matrix.shape[1]):\n",
    "            partial_correlations_matrix.iloc[i][j] = - precision_matrix.iloc[i][j] / (math.sqrt(precision_matrix.iloc[i][i] * precision_matrix.iloc[j][j]))\n",
    "            if partial_correlations_matrix.iloc[i][j] != 0 and i != j:\n",
    "                pair_row = sorted([partial_correlations_matrix.index[i], partial_correlations_matrix.columns[j]])\n",
    "                pair_row.append(partial_correlations_matrix.iloc[i][j])\n",
    "                pairs_list.append(pair_row)\n",
    "    np.fill_diagonal(partial_correlations_matrix.values, 0)\n",
    "    df_pairs = pd.DataFrame(pairs_list, columns = [\"Stock_X\", \"Stock_Y\", \"Correlation\"])\n",
    "    df_pairs[f\"{start_glasso_year}_{end_glasso_year}\"] = 1\n",
    "    df_pairs.drop_duplicates(subset = [\"Stock_X\", \"Stock_Y\"], inplace = True)\n",
    "    df_pairs_list.append(df_pairs)\n",
    "    df_partial_correlations_list.append(partial_correlations_matrix)"
   ]
  },
  {
   "cell_type": "code",
   "execution_count": null,
   "id": "ea6aa84c",
   "metadata": {
    "scrolled": true
   },
   "outputs": [],
   "source": [
    "[df_pair.drop(\"Correlation\", axis = 1, inplace = True) for df_pair in df_pairs_list]\n",
    "[df_pair.set_index([\"Stock_X\", \"Stock_Y\"], inplace = True) for df_pair in df_pairs_list]\n",
    "df_rolling_pairs = pd.DataFrame().join(other = df_pairs_list, how = \"outer\").fillna(0)"
   ]
  },
  {
   "cell_type": "code",
   "execution_count": null,
   "id": "8226c5d9",
   "metadata": {},
   "outputs": [],
   "source": [
    "df_rolling_pairs.to_pickle(\"Rolling pairs\")"
   ]
  },
  {
   "cell_type": "code",
   "execution_count": null,
   "id": "dded50cd",
   "metadata": {},
   "outputs": [],
   "source": [
    "df_rolling_pairs = pd.read_pickle(\"Rolling pairs\")"
   ]
  },
  {
   "cell_type": "code",
   "execution_count": null,
   "id": "aeac2d7f",
   "metadata": {},
   "outputs": [],
   "source": [
    "def level_crosses(series, level = 2):\n",
    "    change = []\n",
    "    for i, el in enumerate(series):\n",
    "        if i != 0 and el > level and series[i-1] < level:\n",
    "            change.append(1)\n",
    "        elif i != 0 and el < level and series[i-1] > level:\n",
    "            change.append(-1)\n",
    "        else:\n",
    "            change.append(0)\n",
    "    return change\n",
    "\n",
    "def reduce_df(df, start_year, end_year):\n",
    "    df = df[df.index.year >= start_year]\n",
    "    df = df[df.index.year <= end_year]\n",
    "    return df"
   ]
  },
  {
   "cell_type": "code",
   "execution_count": null,
   "id": "63873112",
   "metadata": {},
   "outputs": [],
   "source": [
    "df_prices = pd.read_pickle(\"s&p500_final\")\n",
    "df_bid_ask = pd.read_csv(\"stocks_bid_ask.csv\")"
   ]
  },
  {
   "cell_type": "code",
   "execution_count": null,
   "id": "d7a1a8c5",
   "metadata": {},
   "outputs": [],
   "source": [
    "df_bid_ask[\"date\"] = pd.to_datetime(df_bid_ask.date)"
   ]
  },
  {
   "cell_type": "code",
   "execution_count": null,
   "id": "b15d35e8",
   "metadata": {},
   "outputs": [],
   "source": [
    "df_pairs_returns_list = list()\n",
    "for i in range(start_year, end_year):\n",
    "    start_glasso_year = i\n",
    "    end_glasso_year = i + glasso_duration - 1\n",
    "    start_strategy_year = end_glasso_year + 1\n",
    "    end_strategy_year = start_strategy_year + strategy_duration - 1\n",
    "    print(start_glasso_year, end_glasso_year, start_strategy_year, end_strategy_year)\n",
    "    df_prices_glasso = reduce_df(df_prices, start_glasso_year, end_glasso_year)\n",
    "    df_prices_strategy = reduce_df(df_prices, start_strategy_year, end_strategy_year)\n",
    "    glasso_pairs = df_rolling_pairs[df_rolling_pairs[f\"{start_glasso_year}_{end_glasso_year}\"] == 1].index\n",
    "    df_pairs_returns = pd.DataFrame()\n",
    "    for pair in glasso_pairs:\n",
    "        engle_granger = coint(\n",
    "            df_prices_glasso[pair[0]], \n",
    "            df_prices_glasso[pair[1]]\n",
    "        )\n",
    "        p_value = engle_granger[1]\n",
    "        if p_value < 0.05:\n",
    "            rols = RollingOLS(df_prices[pair[1]], df_prices[pair[0]], window = regr_window)\n",
    "            rres = rols.fit()\n",
    "            beta = rres.params\n",
    "            df_pair = pd.DataFrame()\n",
    "            df_pair[\"Beta\"] = rres.params\n",
    "            df_pair[\"Spread\"] = df_prices[pair[1]] - df_pair[\"Beta\"] * df_prices[pair[0]]\n",
    "            df_pair[\"Normalized_Spread\"] = (df_pair[\"Spread\"] - df_pair[\"Spread\"].rolling(norm_window).mean()) / df_pair[\"Spread\"].rolling(norm_window).std()\n",
    "            df_pair_reduced = reduce_df(df_pair, start_strategy_year, end_strategy_year)\n",
    "            upper_trading = level_crosses(df_pair_reduced[\"Normalized_Spread\"], level = entry_level)\n",
    "            lower_trading = level_crosses(df_pair_reduced[\"Normalized_Spread\"], level = -entry_level)\n",
    "            mean = level_crosses(df_pair_reduced[\"Normalized_Spread\"], level = take_profit)\n",
    "            upper_stop_loss = level_crosses(df_pair_reduced[\"Normalized_Spread\"], level = stop_loss)\n",
    "            lower_stop_loss = level_crosses(df_pair_reduced[\"Normalized_Spread\"], level = -stop_loss)\n",
    "            long_X = 0\n",
    "            returns = list()\n",
    "            df_bid_ask_X = df_bid_ask[df_bid_ask[\"TICKER\"] == pair[0]].set_index(\"date\")\n",
    "            df_bid_ask_Y = df_bid_ask[df_bid_ask[\"TICKER\"] == pair[1]].set_index(\"date\")\n",
    "            stock_X = reduce_df(df_bid_ask_X, start_strategy_year, end_strategy_year)\n",
    "            stock_Y = reduce_df(df_bid_ask_Y, start_strategy_year, end_strategy_year)\n",
    "            trade_allowed = True\n",
    "            if len(stock_X) == len(stock_Y) == len(df_pair_reduced):\n",
    "                for i, (signal_upper, signal_lower, signal_mean, stop_loss_upper, stop_loss_lower) in enumerate(zip(upper_trading, lower_trading, mean, upper_stop_loss, lower_stop_loss)):\n",
    "                    if (not trade_allowed) and abs(signal_mean) == 1:\n",
    "                        trade_allowed = True\n",
    "                    if long_X != 0:\n",
    "                        stock_X_price = stock_X[\"BID\"].iloc[i] if long_X == 1 else stock_X[\"ASK\"].iloc[i]\n",
    "                        stock_Y_price = stock_Y[\"ASK\"].iloc[i] if long_X == 1 else stock_Y[\"BID\"].iloc[i]\n",
    "                        stock_X_previous_price = stock_X[\"BID\"].iloc[i-1] if long_X == 1 else stock_X[\"ASK\"].iloc[i-1]\n",
    "                        stock_Y_previous_price = stock_Y[\"ASK\"].iloc[i-1] if long_X == 1 else stock_Y[\"BID\"].iloc[i-1]\n",
    "                        profit_X = beta * long_X * (stock_X_price - stock_X_previous_price)\n",
    "                        profit_Y = long_X * (stock_Y_previous_price - stock_Y_price)\n",
    "                        if method == \"MO\":\n",
    "                            trade_cost = initial_margin * stock_Y_entry_price if long_X == 1 else beta * initial_margin * stock_X_entry_price\n",
    "                        elif method == \"BL\":\n",
    "                            trade_cost = beta * stock_X_entry_price + initial_margin * stock_Y_entry_price if long_X == 1 else stock_Y_entry_price + beta * initial_margin * stock_X_entry_price\n",
    "                        daily_return = (profit_X + profit_Y) / trade_cost\n",
    "                        returns.append(daily_return)\n",
    "                        if abs(signal_mean) == 1 or stop_loss_upper == 1 or stop_loss_lower == -1:\n",
    "                            long_X = 0\n",
    "                            if stop_loss_upper == 1 or stop_loss_lower == -1:\n",
    "                                trade_allowed = False\n",
    "                    else:\n",
    "                        returns.append(math.nan)\n",
    "                        if (signal_upper == -1 or signal_lower == 1) and trade_allowed:\n",
    "                            long_X = 1 if signal_upper == -1 else -1\n",
    "                            stock_X_entry_price = stock_X[\"ASK\"].iloc[i] if long_X == 1 else stock_X[\"BID\"].iloc[i]\n",
    "                            stock_Y_entry_price = stock_Y[\"BID\"].iloc[i] if long_X == 1 else stock_Y[\"ASK\"].iloc[i]\n",
    "                            beta = df_pair_reduced[\"Beta\"].iloc[i]\n",
    "                df_pairs_returns[f\"{pair[0]}_{pair[1]}\"] = pd.Series(returns, index = df_prices_strategy.index)    \n",
    "    df_pairs_returns_list.append(df_pairs_returns)"
   ]
  },
  {
   "cell_type": "code",
   "execution_count": null,
   "id": "969c546c",
   "metadata": {},
   "outputs": [],
   "source": [
    "overall_returns = pd.concat([(df_pairs_returns / df_pairs_returns.shape[1]).sum(axis = 1)  for df_pairs_returns in df_pairs_returns_list])\n",
    "overall_cum_returns = (1 + overall_returns).cumprod()"
   ]
  },
  {
   "cell_type": "code",
   "execution_count": null,
   "id": "9a0b76fc",
   "metadata": {},
   "outputs": [],
   "source": [
    "import getFamaFrenchFactors as ff\n",
    "import statsmodels.api as sm"
   ]
  },
  {
   "cell_type": "code",
   "execution_count": null,
   "id": "d8fb79c1",
   "metadata": {},
   "outputs": [],
   "source": [
    "returns = overall_returns\n",
    "returns = returns + 1\n",
    "returns.index = pd.to_datetime(returns.index)\n",
    "n_rows = 12 * len(set(returns.index.year))\n",
    "returns = returns.groupby(by = [returns.index.year, returns.index.month]).prod() - 1"
   ]
  },
  {
   "cell_type": "code",
   "execution_count": null,
   "id": "30c401f4",
   "metadata": {},
   "outputs": [],
   "source": [
    "carhart4_monthly = ff.carhart4Factor(frequency = 'm')\n",
    "carhart4_monthly[\"date_ff_factors\"] = pd.to_datetime(carhart4_monthly[\"date_ff_factors\"])\n",
    "carhart4_monthly = carhart4_monthly.iloc[-n_rows:]\n",
    "carhart4_monthly.set_index(\"date_ff_factors\", inplace = True)"
   ]
  },
  {
   "cell_type": "code",
   "execution_count": null,
   "id": "db25cb75",
   "metadata": {},
   "outputs": [],
   "source": [
    "def reformat_index(s):\n",
    "    s = s.replace(\",\", \".\")\n",
    "    if s == \".\":\n",
    "        return math.nan\n",
    "    return float(s)"
   ]
  },
  {
   "cell_type": "code",
   "execution_count": null,
   "id": "069530b5",
   "metadata": {},
   "outputs": [],
   "source": [
    "carhart4_monthly[\"Strategy_return\"] = returns.values\n",
    "carhart4_monthly[\"Strategy_excess_return\"] = carhart4_monthly[\"Strategy_return\"] - carhart4_monthly[\"RF\"]"
   ]
  },
  {
   "cell_type": "code",
   "execution_count": null,
   "id": "b1a22d91",
   "metadata": {},
   "outputs": [],
   "source": [
    "X = carhart4_monthly[[\"Mkt-RF\", \"SMB\", \"HML\", \"MOM\"]]\n",
    "y = carhart4_monthly[\"Strategy_excess_return\"]\n",
    "X = sm.add_constant(X)\n",
    "ff_model = sm.OLS(y, X).fit()\n",
    "print(ff_model.summary())\n",
    "intercept, b1, b2, b3, b4 = ff_model.params"
   ]
  },
  {
   "cell_type": "code",
   "execution_count": null,
   "id": "83884ae1",
   "metadata": {},
   "outputs": [],
   "source": [
    "strategy_sharpe = math.sqrt(12) * np.average(carhart4_monthly[\"Strategy_excess_return\"]) / np.std(carhart4_monthly[\"Strategy_excess_return\"])"
   ]
  },
  {
   "cell_type": "code",
   "execution_count": null,
   "id": "1ec0d76d",
   "metadata": {},
   "outputs": [],
   "source": [
    "strategy_sharpe"
   ]
  }
 ],
 "metadata": {
  "kernelspec": {
   "display_name": "Python 3 (ipykernel)",
   "language": "python",
   "name": "python3"
  },
  "language_info": {
   "codemirror_mode": {
    "name": "ipython",
    "version": 3
   },
   "file_extension": ".py",
   "mimetype": "text/x-python",
   "name": "python",
   "nbconvert_exporter": "python",
   "pygments_lexer": "ipython3",
   "version": "3.9.7"
  }
 },
 "nbformat": 4,
 "nbformat_minor": 5
}
